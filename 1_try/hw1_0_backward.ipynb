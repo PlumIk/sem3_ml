{
 "cells": [
  {
   "cell_type": "code",
   "execution_count": 1,
   "metadata": {
    "id": "YjEz7OtnPCkr"
   },
   "outputs": [],
   "source": [
    "import torch\n",
    "from torch import nn, tensor, float32, stack"
   ]
  },
  {
   "cell_type": "markdown",
   "metadata": {
    "id": "3SMJbJwk-JFw"
   },
   "source": [
    "### Домашнее задание\n",
    "**Разработчик: Тимофей Науменко**"
   ]
  },
  {
   "cell_type": "markdown",
   "metadata": {
    "id": "I5j41BOZrdr4"
   },
   "source": [
    "На основании функции по варианту необходимо:\n",
    "1. Построить nn.Module, в котором вы определите `forward`и `my_forward_backward`\n",
    "2. `forward` должен повторять функцию, выданную вам по варианту, `my_forward_backward` описывает проход по вычислителному графу, а также вычисление градиентов по этому графу с помощью backprop. Градиенты должны быть рассчитаны для параметров $w0, w1$, тензоры $x1, x2, x3$ считаются входными данными сети\n",
    "3. Необходимо удалять неиспользуемые тензоры, как это делает Pytorch\n",
    "4. Если какие-то узлы не нужны для вычисления результата, то вы не должны их вычислять в процессе backprop\n",
    "5. Необходимо построить визуализацию вычислительного графа\n",
    "\n",
    "Все материалы для выполнения задания можно найти в ноутбуках второго и третьего семинаров, а также в этом ноутбуке есть пример выполненного задания"
   ]
  },
  {
   "cell_type": "code",
   "execution_count": 2,
   "metadata": {
    "id": "LvQCO4gQPTR-"
   },
   "outputs": [],
   "source": [
    "def v9():  # Alexander\n",
    "  r1 = w0 * (x3 + w1 ** 2)\n",
    "  r2 = (3 + x2) * w0 + w1\n",
    "  r3 = x1 + (x2 * w0) / w1 ** 2\n",
    "  return x1 - x2 / (r1 * r2 * r3 + x3)"
   ]
  },
  {
   "cell_type": "code",
   "execution_count": 3,
   "metadata": {
    "id": "mvqUaYAcHLhe"
   },
   "outputs": [],
   "source": [
    "def test_model_class(model_class):\n",
    "\n",
    "    model = model_class()\n",
    "\n",
    "    for _ in range(10):\n",
    "\n",
    "        x1, x2, x3 = torch.rand(3)\n",
    "\n",
    "        model.zero_grad()\n",
    "        y_torch = model(x1, x2, x3)\n",
    "        y_torch.backward()\n",
    "        grad_torch = model.w.grad.clone()\n",
    "\n",
    "        # print(y_torch.clone().detach().numpy(), grad_torch.clone().numpy())\n",
    "\n",
    "        model.zero_grad()\n",
    "        with torch.no_grad():\n",
    "            y_manual = model.your_forward_backward(x1, x2, x3)\n",
    "        grad_manual = model.w.grad.clone()\n",
    "\n",
    "        # print(y_manual.numpy(), grad_manual.numpy())\n",
    "        # print()\n",
    "\n",
    "        assert torch.allclose(y_manual, y_torch, rtol=5e-05, atol=1e-7)\n",
    "        assert torch.allclose(grad_manual, grad_torch, rtol=5e-05, atol=1e-7)\n",
    "\n",
    "    print('Tests completed successfully!')"
   ]
  },
  {
   "cell_type": "code",
   "execution_count": 4,
   "metadata": {
    "id": "qYoV5r2phrgP"
   },
   "outputs": [],
   "source": [
    "# Пример\n",
    "class Graph(nn.Module):\n",
    "    def __init__(self):\n",
    "        super().__init__()\n",
    "        self.w = nn.Parameter(tensor([0.950, 0.288], dtype=float32))\n",
    "\n",
    "    def forward(self, x1, x2, x3):\n",
    "        w0, w1 = self.w\n",
    "\n",
    "        r1 = w0 * (x3 + w1 ** 2)\n",
    "        r2 = (3 + x2) * w0 + w1\n",
    "        r3 = x1 + (x2 * w0) / w1 ** 2\n",
    "        return x1 - x2 / (r1 * r2 * r3 + x3)\n",
    "\n",
    "    def your_forward_backward(self, x1, x2, x3):\n",
    "        w0, w1 = self.w\n",
    "\n",
    "        # forward\n",
    "        a0 = w1 ** 2\n",
    "        a1 = x3 + a0\n",
    "        a3 = w0 * a1\n",
    "\n",
    "        b0 = 3 + x2\n",
    "        b1 = b0 * w0\n",
    "        b2 = b1 + w1\n",
    "        b1 = None\n",
    "\n",
    "        c1 = x2 * w0\n",
    "        c2 = c1 / a0\n",
    "        c3 = x1 + c2\n",
    "        c2 = None\n",
    "\n",
    "        d0 = a3 * b2 * c3\n",
    "        d1 = d0 + x3\n",
    "        x3 = None\n",
    "        d0 = None\n",
    "        d2 = x2 / d1\n",
    "        d3 = x1 - d2\n",
    "        x1 = None\n",
    "        d2 = None\n",
    "\n",
    "        # SyKa  # dlos\n",
    "        dd3 = 1\n",
    "        dd2 = dd3 * (-1)\n",
    "        dd1 = dd2 * (-x2 / (d1 ** 2))\n",
    "        d1 = None\n",
    "        dd0 = dd1 * (1)\n",
    "\n",
    "        dc3 = dd0 * (a3 * b2)\n",
    "        dc2 = dc3 * (1)\n",
    "        dc1 = dc2 * (1 / a0)\n",
    "\n",
    "        db2 = dd0 * (a3 * c3)\n",
    "        a3 = None\n",
    "        db1 = db2 * (1)\n",
    "        db0 = db1 * (w0)\n",
    "\n",
    "        da3 = dd0 * (b2 * c3)\n",
    "        c3 = None\n",
    "        b2 = None\n",
    "        da1 = da3 * (w0)\n",
    "        da0 = da1 * (1) +dc2*(-c1/(a0**2))\n",
    "        c1 = None\n",
    "        a0 = None\n",
    "\n",
    "        dw0 = da3 * (a1) + db1 * (b0) + dc1 * (x2)\n",
    "        x2 = None\n",
    "        b0 = None\n",
    "        a1 = None\n",
    "        dw1 = da0 * (2 * w1) + db2 * (1)\n",
    "\n",
    "        self.w.grad = stack([dw0, dw1])\n",
    "\n",
    "        return d3"
   ]
  },
  {
   "cell_type": "code",
   "execution_count": 5,
   "metadata": {
    "colab": {
     "base_uri": "https://localhost:8080/"
    },
    "executionInfo": {
     "elapsed": 453,
     "status": "ok",
     "timestamp": 1666861188245,
     "user": {
      "displayName": "Alexandr Nazdryukhin",
      "userId": "03409639318569515855"
     },
     "user_tz": -420
    },
    "id": "ABjcjha16xtz",
    "outputId": "52214ff6-5636-4197-b64b-67e7257b5b85"
   },
   "outputs": [
    {
     "name": "stdout",
     "output_type": "stream",
     "text": [
      "Tests completed successfully!\n"
     ]
    }
   ],
   "source": [
    "# Здесь тестируется построенная вами модель\n",
    "test_model_class(Graph)"
   ]
  },
  {
   "cell_type": "code",
   "execution_count": 6,
   "metadata": {
    "id": "_HVl0_CaxsZp"
   },
   "outputs": [],
   "source": [
    "# А сюда вы должны вставить визуализацию графа"
   ]
  },
  {
   "cell_type": "markdown",
   "metadata": {},
   "source": []
  }
 ],
 "metadata": {
  "accelerator": "GPU",
  "colab": {
   "provenance": [
    {
     "file_id": "1d8hCg_DZ9YDpDsEu2U27BHl8ZqAwj8pw",
     "timestamp": 1666422773965
    },
    {
     "file_id": "1RUVoRFFxZtabOCMThweHM7lsujktPNzW",
     "timestamp": 1639763538262
    },
    {
     "file_id": "1xte041-gvd2yGBso1oTJ4r0GZD_FSB7U",
     "timestamp": 1639211047775
    }
   ]
  },
  "kernelspec": {
   "display_name": "Python 3 (ipykernel)",
   "language": "python",
   "name": "python3"
  },
  "language_info": {
   "codemirror_mode": {
    "name": "ipython",
    "version": 3
   },
   "file_extension": ".py",
   "mimetype": "text/x-python",
   "name": "python",
   "nbconvert_exporter": "python",
   "pygments_lexer": "ipython3",
   "version": "3.9.13"
  }
 },
 "nbformat": 4,
 "nbformat_minor": 4
}
