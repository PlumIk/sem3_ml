{
 "cells": [
  {
   "cell_type": "code",
   "execution_count": 1,
   "id": "0cb17fc0-1314-428c-926c-95dd2ba0dfbf",
   "metadata": {},
   "outputs": [],
   "source": [
    "from Trainer import Trainer\n",
    "from DataWork import mnist\n",
    "from model.Layer import Layer\n",
    "from model.PerceptronClassifier import ReLU\n",
    "from model.PerceptronClassifier import PerceptronClassifier\n",
    "from model.PerceptronClassifier import SoftMaxCrossEntropy\n",
    "from pathlib import Path\n",
    "import numpy as np\n",
    "import matplotlib.pyplot as plt"
   ]
  },
  {
   "cell_type": "code",
   "execution_count": 2,
   "id": "0faf5967-1737-411a-8c7e-f8bc1cb7cbaf",
   "metadata": {},
   "outputs": [],
   "source": [
    "(X_train, y_train, X_test, y_test) = mnist()"
   ]
  },
  {
   "cell_type": "code",
   "execution_count": 3,
   "id": "02320d39-9097-41d2-83f3-5744dcd436a1",
   "metadata": {},
   "outputs": [],
   "source": [
    "layers = [\n",
    "    Layer(input_size=28 * 28, output_size=32, bias=True),\n",
    "    ReLU(),\n",
    "    Layer(input_size=32, output_size=14, bias=True),\n",
    "    ReLU(),\n",
    "    Layer(input_size=14, output_size=10, bias=True),\n",
    "    ReLU()\n",
    "]"
   ]
  },
  {
   "cell_type": "code",
   "execution_count": 4,
   "id": "9857e8fc-eeea-4af1-8bf9-31e4ead204ef",
   "metadata": {},
   "outputs": [
    {
     "name": "stderr",
     "output_type": "stream",
     "text": [
      "avg_epoch_loss: 0.09808541712938855: 100%|█████████████████████████████████████████████████████████████████████████████████████████████████████████████| 50/50 [03:20<00:00,  4.02s/it]\n"
     ]
    }
   ],
   "source": [
    "\n",
    "model = PerceptronClassifier(layers)\n",
    "train_loss = Trainer(model, SoftMaxCrossEntropy()).fit(X_train, y_train, lr=1e-3, epoch_count=50, batch_size=3)"
   ]
  },
  {
   "cell_type": "code",
   "execution_count": 5,
   "id": "4f40c510-c54f-4a78-9618-c61517bdb3a8",
   "metadata": {},
   "outputs": [
    {
     "name": "stdout",
     "output_type": "stream",
     "text": [
      "              precision    recall  f1-score   support\n",
      "\n",
      "           0       0.51      0.98      0.68       980\n",
      "           1       0.98      0.99      0.98      1135\n",
      "           2       0.96      0.96      0.96      1032\n",
      "           3       0.93      0.97      0.95      1010\n",
      "           4       0.92      0.98      0.95       982\n",
      "           5       0.93      0.95      0.94       892\n",
      "           6       0.97      0.96      0.97       958\n",
      "           7       0.96      0.95      0.95      1028\n",
      "           8       0.94      0.94      0.94       974\n",
      "           9       0.00      0.00      0.00      1009\n",
      "\n",
      "    accuracy                           0.87     10000\n",
      "   macro avg       0.81      0.87      0.83     10000\n",
      "weighted avg       0.81      0.87      0.83     10000\n",
      "\n"
     ]
    },
    {
     "name": "stderr",
     "output_type": "stream",
     "text": [
      "D:\\Prog\\MLka\\2_try\\venv\\lib\\site-packages\\sklearn\\metrics\\_classification.py:1471: UndefinedMetricWarning: Precision and F-score are ill-defined and being set to 0.0 in labels with no predicted samples. Use `zero_division` parameter to control this behavior.\n",
      "  _warn_prf(average, modifier, msg_start, len(result))\n",
      "D:\\Prog\\MLka\\2_try\\venv\\lib\\site-packages\\sklearn\\metrics\\_classification.py:1471: UndefinedMetricWarning: Precision and F-score are ill-defined and being set to 0.0 in labels with no predicted samples. Use `zero_division` parameter to control this behavior.\n",
      "  _warn_prf(average, modifier, msg_start, len(result))\n",
      "D:\\Prog\\MLka\\2_try\\venv\\lib\\site-packages\\sklearn\\metrics\\_classification.py:1471: UndefinedMetricWarning: Precision and F-score are ill-defined and being set to 0.0 in labels with no predicted samples. Use `zero_division` parameter to control this behavior.\n",
      "  _warn_prf(average, modifier, msg_start, len(result))\n"
     ]
    }
   ],
   "source": [
    "from Trainer import test_classificator\n",
    "\n",
    "print(test_classificator(model, X_test, y_test))"
   ]
  },
  {
   "cell_type": "code",
   "execution_count": 6,
   "id": "06c224fa-b852-4f24-9541-4d01037d8332",
   "metadata": {},
   "outputs": [
    {
     "data": {
      "text/plain": [
       "[<matplotlib.lines.Line2D at 0x209000534c0>]"
      ]
     },
     "execution_count": 6,
     "metadata": {},
     "output_type": "execute_result"
    },
    {
     "data": {
      "image/png": "[encoded data removed]",
      "text/plain": [
       "<Figure size 640x480 with 1 Axes>"
      ]
     },
     "metadata": {},
     "output_type": "display_data"
    }
   ],
   "source": [
    "model.store_model(Path('./EndPoint/1.pkl'))\n",
    "plt.plot(np.array(train_loss))"
   ]
  }
 ],
 "metadata": {
  "kernelspec": {
   "display_name": "Python 3 (ipykernel)",
   "language": "python",
   "name": "python3"
  },
  "language_info": {
   "codemirror_mode": {
    "name": "ipython",
    "version": 3
   },
   "file_extension": ".py",
   "mimetype": "text/x-python",
   "name": "python",
   "nbconvert_exporter": "python",
   "pygments_lexer": "ipython3",
   "version": "3.9.13"
  }
 },
 "nbformat": 4,
 "nbformat_minor": 5
}
