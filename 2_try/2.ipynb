{
 "cells": [
  {
   "cell_type": "code",
   "execution_count": 1,
   "id": "418eec93-ab6d-4b54-adbf-588fa187699b",
   "metadata": {},
   "outputs": [],
   "source": [
    "import numpy as np\n",
    "\n",
    "from model.PerceptronClassifier import PerceptronClassifier\n",
    "from DataWork import mnist\n",
    "from Trainer import split_reminder\n",
    "from sklearn.metrics import classification_report\n",
    "from pathlib import Path"
   ]
  },
  {
   "cell_type": "code",
   "execution_count": 2,
   "id": "b73e2045-286f-4eb3-b388-13a605a76013",
   "metadata": {},
   "outputs": [],
   "source": [
    "perceptron = PerceptronClassifier.load_model(Path('EndPoint/1.pkl'))"
   ]
  },
  {
   "cell_type": "code",
   "execution_count": 3,
   "id": "b3aeb19e-3a1a-4be2-9527-f2ff0a4eba0e",
   "metadata": {},
   "outputs": [
    {
     "data": {
      "text/plain": [
       "[<model.Layer.Layer at 0x287d53827f0>,\n",
       " <model.PerceptronClassifier.ReLU at 0x287f38a8ca0>,\n",
       " <model.Layer.Layer at 0x287f38a8e50>,\n",
       " <model.PerceptronClassifier.ReLU at 0x287f38a83d0>,\n",
       " <model.Layer.Layer at 0x287f38a8280>,\n",
       " <model.PerceptronClassifier.ReLU at 0x287f38bc100>]"
      ]
     },
     "execution_count": 3,
     "metadata": {},
     "output_type": "execute_result"
    }
   ],
   "source": [
    "layers = perceptron._layers\n",
    "layers"
   ]
  },
  {
   "cell_type": "code",
   "execution_count": 4,
   "id": "70592452-3ce4-4670-9e44-a7591b5083e2",
   "metadata": {},
   "outputs": [
    {
     "data": {
      "text/plain": [
       "[<model.Layer.Layer at 0x287d53827f0>,\n",
       " <model.PerceptronClassifier.ReLU at 0x287f38a8ca0>,\n",
       " <model.Layer.Layer at 0x287f38a8e50>,\n",
       " <model.PerceptronClassifier.ReLU at 0x287f38a83d0>]"
      ]
     },
     "execution_count": 4,
     "metadata": {},
     "output_type": "execute_result"
    }
   ],
   "source": [
    "backbone_layers = layers[0:4]\n",
    "backbone_layers"
   ]
  },
  {
   "cell_type": "code",
   "execution_count": 5,
   "id": "73be1ce2-5f17-48c7-af2c-d4103ded36fc",
   "metadata": {},
   "outputs": [],
   "source": [
    "emb_perceptron = PerceptronClassifier(backbone_layers)"
   ]
  },
  {
   "cell_type": "code",
   "execution_count": 6,
   "id": "af5d79b5-b524-4afe-ae24-81fe528f3e8a",
   "metadata": {},
   "outputs": [],
   "source": [
    "(X_train, y_train, X_test, y_test) = mnist()\n",
    "y_train = y_train % 2\n",
    "y_test = y_test % 2"
   ]
  },
  {
   "cell_type": "code",
   "execution_count": 8,
   "id": "4a493c56-6f57-4bb0-83cd-b9b4178d8cfd",
   "metadata": {},
   "outputs": [],
   "source": [
    "def predict(X, model):\n",
    "    batched_X = split_reminder(X, 1)\n",
    "    res = []\n",
    "    for x in batched_X:\n",
    "        out = model.forward(x)\n",
    "        res.append(out)\n",
    "    return np.stack(res).squeeze()\n",
    "\n",
    "\n",
    "train_embeddings = predict(X_train, emb_perceptron)\n",
    "test_embeddings = predict(X_test, emb_perceptron)"
   ]
  },
  {
   "cell_type": "code",
   "execution_count": 9,
   "id": "a16cf038-3352-4660-b2e1-efeea67db4ce",
   "metadata": {},
   "outputs": [],
   "source": [
    "from sklearn.linear_model import LogisticRegression\n",
    "\n",
    "log_reg = LogisticRegression(max_iter=500)\n",
    "fitted_log_reg = log_reg.fit(train_embeddings, y_train)"
   ]
  },
  {
   "cell_type": "code",
   "execution_count": 10,
   "id": "538b3c88-7a58-46b7-950f-39850fa7b574",
   "metadata": {},
   "outputs": [],
   "source": [
    "test_predicts = fitted_log_reg.predict(test_embeddings)"
   ]
  },
  {
   "cell_type": "code",
   "execution_count": 11,
   "id": "5647a721-d2fe-4c41-b643-2c3f9784015f",
   "metadata": {},
   "outputs": [
    {
     "name": "stdout",
     "output_type": "stream",
     "text": [
      "              precision    recall  f1-score   support\n",
      "\n",
      "           0       0.94      0.93      0.93      4926\n",
      "           1       0.93      0.94      0.94      5074\n",
      "\n",
      "    accuracy                           0.93     10000\n",
      "   macro avg       0.93      0.93      0.93     10000\n",
      "weighted avg       0.93      0.93      0.93     10000\n",
      "\n"
     ]
    }
   ],
   "source": [
    "print(classification_report(y_true=y_test, y_pred=test_predicts))"
   ]
  },
  {
   "cell_type": "code",
   "execution_count": null,
   "id": "a74807a3-99b7-48d2-94f1-108df301623b",
   "metadata": {},
   "outputs": [],
   "source": []
  }
 ],
 "metadata": {
  "kernelspec": {
   "display_name": "Python 3 (ipykernel)",
   "language": "python",
   "name": "python3"
  },
  "language_info": {
   "codemirror_mode": {
    "name": "ipython",
    "version": 3
   },
   "file_extension": ".py",
   "mimetype": "text/x-python",
   "name": "python",
   "nbconvert_exporter": "python",
   "pygments_lexer": "ipython3",
   "version": "3.9.13"
  }
 },
 "nbformat": 4,
 "nbformat_minor": 5
}
